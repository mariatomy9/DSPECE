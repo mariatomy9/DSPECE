{
 "cells": [
  {
   "cell_type": "code",
   "execution_count": 51,
   "metadata": {},
   "outputs": [],
   "source": [
    "import numpy as np\n",
    "import matplotlib.pyplot as plt\n",
    " "
   ]
  },
  {
   "cell_type": "code",
   "execution_count": 52,
   "metadata": {},
   "outputs": [
    {
     "data": {
      "text/plain": [
       "(1+0j)"
      ]
     },
     "execution_count": 52,
     "metadata": {},
     "output_type": "execute_result"
    }
   ],
   "source": [
    "\n",
    "def tf(k,N):\n",
    "    return np.exp((-1j*2*np.pi*k)/N)\n",
    "\n",
    "tf(0,4)"
   ]
  },
  {
   "cell_type": "code",
   "execution_count": 53,
   "metadata": {},
   "outputs": [],
   "source": [
    "def fft(x):\n",
    "    f = np.zeros_like(x,dtype=complex)\n",
    "    for i in np.arange(len(f)):\n",
    "        f[i]=fft_k(x,i) \n",
    "    return f\n",
    "\n",
    "def fft_k(x,k):\n",
    "    if(len(x)==1):\n",
    "         return x[0]\n",
    "    f= 0+0j\n",
    "    x_even = x[::2]\n",
    "    x_odd = x[1::2]\n",
    "    \n",
    "    fe= fft_k(x_even,k)\n",
    "    fo = fft_k(x_odd,k)\n",
    "    xfo= np.multiply(tf(k,len(x)) ,fo,dtype=complex)\n",
    "    f=np.add(fe,xfo,dtype=complex)\n",
    "    return f\n",
    "    "
   ]
  },
  {
   "cell_type": "code",
   "execution_count": null,
   "metadata": {},
   "outputs": [],
   "source": []
  },
  {
   "cell_type": "code",
   "execution_count": 72,
   "metadata": {},
   "outputs": [
    {
     "name": "stdout",
     "output_type": "stream",
     "text": [
      "0.223684036 s\n",
      "0.000155101 s\n"
     ]
    }
   ],
   "source": [
    "\n",
    "import time\n",
    "import scipy as scp\n",
    "slew_rate=128\n",
    "ts = 1/slew_rate\n",
    "t = np.arange(0,1,ts)\n",
    "freq = 1\n",
    "x = 3*np.sin(2*np.pi*freq*t)\n",
    "freq = 2\n",
    "x += np.sin(2*np.pi*freq*t)\n",
    "freq = 2\n",
    "x += 0.5*np.sin(2*np.pi*freq*t)\n",
    "freq = 60\n",
    "x += 0.5*np.sin(2*np.pi*freq*t)\n",
    "\n",
    "\n",
    "t1 = time.time_ns()\n",
    "res1 = fft(x)\n",
    "t2 = time.time_ns()\n",
    "\n",
    "t3 = time.time_ns()\n",
    "res2 = np.fft.fft(x)\n",
    "t4 = time.time_ns()\n",
    "\n",
    "print((t2-t1)/1000000000,\"s\")\n",
    "print((t4-t3)/1000000000,\"s\")\n",
    "\n",
    "\n",
    "\n",
    "# T= len(x)/slew_rate\n",
    "# freq = np.arange(len(x))/T\n",
    "\n",
    "\n",
    "# plt.stem(freq,abs(res))\n",
    "# plt.title(\"Fast-FT\")\n",
    "# plt.ylabel(\"FFT(x)\")\n",
    "# plt.xlabel(\"samples\")\n",
    "# plt.grid(True)\n",
    "# plt.show()\n",
    "# plt.savefig(\"e4_fft.pdf\")\n",
    "\n",
    "\n",
    "\n",
    "# T= (len(x)//2)/slew_rate\n",
    "# freq = np.arange(len(x))/T\n",
    "\n",
    "\n",
    "# plt.stem(freq,abs(res))\n",
    "# plt.title(\"Fast-FT\")\n",
    "# plt.ylabel(\"FFT(x)\")\n",
    "# plt.xlabel(\"samples\")\n",
    "# plt.grid(True)\n",
    "# plt.show()\n",
    "# plt.savefig(\"e4_fft.pdf\")\n"
   ]
  }
 ],
 "metadata": {
  "interpreter": {
   "hash": "ed432432977283696daa711274c0c607d08ffb2ec901a756c9d1f6d2ed598796"
  },
  "kernelspec": {
   "display_name": "Python 3.8.12 ('sclab')",
   "language": "python",
   "name": "python3"
  },
  "language_info": {
   "codemirror_mode": {
    "name": "ipython",
    "version": 3
   },
   "file_extension": ".py",
   "mimetype": "text/x-python",
   "name": "python",
   "nbconvert_exporter": "python",
   "pygments_lexer": "ipython3",
   "version": "3.8.12"
  },
  "orig_nbformat": 4
 },
 "nbformat": 4,
 "nbformat_minor": 2
}
