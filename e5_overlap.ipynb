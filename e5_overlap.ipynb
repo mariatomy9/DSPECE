{
 "cells": [
  {
   "cell_type": "code",
   "execution_count": 2,
   "metadata": {},
   "outputs": [],
   "source": [
    "import numpy as np\n",
    "import matplotlib.pyplot as plt"
   ]
  },
  {
   "cell_type": "code",
   "execution_count": 86,
   "metadata": {},
   "outputs": [
    {
     "name": "stdout",
     "output_type": "stream",
     "text": [
      "[[1.0, 3.0, 6.0, 5.0, 3.0], [4.0, 4.0, 4.0, 0.0, 0.0]]\n",
      "[1. 3. 6. 9. 7. 4. 0. 0.]\n"
     ]
    }
   ],
   "source": [
    "#overlap add method\n",
    "\n",
    "x=np.array([1,2,3,4])\n",
    "h=np.array([1,1,1])\n",
    "\n",
    "M=len(h)\n",
    "L=M\n",
    "N=L+M-1\n",
    "if L!=2*M:\n",
    "    x=np.append(x,np.zeros(2*M-len(x)))\n",
    "h=np.append(h,np.zeros(N-M))\n",
    "j=np.array_split(x,N-M)\n",
    "y=[]\n",
    "for i in j:\n",
    "    i=np.append(i,np.zeros(N-M))\n",
    "    y.append(i)\n",
    "r=[]\n",
    "for t in y:\n",
    "    r.append(circular_covolution(t,h))\n",
    "\n",
    "print(r)\n",
    "for i in range(len(r)-1):\n",
    "    u=np.array(r[i][0:M])\n",
    "    v=np.array(r[i][M:M+2])\n",
    "    e=np.array(r[i+1][0:M-1])\n",
    "    u=np.append(u,np.add(v,e))\n",
    "    o=np.array(r[i+1][M-1:M+2])\n",
    "    u=np.append(u,o)\n",
    "    print(u)\n",
    "\n",
    "\n",
    "\n"
   ]
  },
  {
   "cell_type": "code",
   "execution_count": 31,
   "metadata": {},
   "outputs": [],
   "source": [
    "def circular_convolution(x,h):\n",
    "    y=[]\n",
    "    a=np.array(x[0])\n",
    "    b=np.array(x[:0:-1])\n",
    "    p=np.insert(b,0,a)\n",
    "    y.append(p)\n",
    "    for i in range(len(x)-1):\n",
    "        p = np.roll(p,1)\n",
    "        y.append(p)\n",
    "    u=[]\n",
    "    for t in y:\n",
    "        u.append(np.dot(t,h))\n",
    "    return u\n",
    "        "
   ]
  },
  {
   "cell_type": "code",
   "execution_count": 81,
   "metadata": {},
   "outputs": [
    {
     "name": "stdout",
     "output_type": "stream",
     "text": [
      "[4. 0. 0.]\n",
      "[1. 3. 6. 9. 7. 4. 0. 0.]\n"
     ]
    }
   ],
   "source": [
    "\n",
    "u=np.array(r[0][0:M])\n",
    "v=np.array(r[0][M:M+2])\n",
    "e=np.array(r[1][0:M-1])\n",
    "u=np.append(u,np.add(v,e))\n",
    "o=np.array(r[1][M-1:M+2])\n",
    "u=np.append(u,o)\n",
    "print(u)"
   ]
  },
  {
   "cell_type": "code",
   "execution_count": 71,
   "metadata": {},
   "outputs": [
    {
     "data": {
      "text/plain": [
       "array([4., 0., 0.])"
      ]
     },
     "execution_count": 71,
     "metadata": {},
     "output_type": "execute_result"
    }
   ],
   "source": [
    "np.array(r[1][M-1:M+2])"
   ]
  },
  {
   "cell_type": "code",
   "execution_count": 85,
   "metadata": {},
   "outputs": [
    {
     "name": "stdout",
     "output_type": "stream",
     "text": [
      "[1. 3. 6. 9. 7. 4. 0. 0.]\n"
     ]
    }
   ],
   "source": [
    "for i in range(len(r)-1):\n",
    "    u=np.array(r[i][0:M])\n",
    "    v=np.array(r[i][M:M+2])\n",
    "    e=np.array(r[i+1][0:M-1])\n",
    "    u=np.append(u,np.add(v,e))\n",
    "    o=np.array(r[i+1][M-1:M+2])\n",
    "    u=np.append(u,o)\n",
    "    print(u)"
   ]
  },
  {
   "cell_type": "code",
   "execution_count": null,
   "metadata": {},
   "outputs": [],
   "source": []
  },
  {
   "cell_type": "code",
   "execution_count": null,
   "metadata": {},
   "outputs": [],
   "source": []
  }
 ],
 "metadata": {
  "interpreter": {
   "hash": "ed432432977283696daa711274c0c607d08ffb2ec901a756c9d1f6d2ed598796"
  },
  "kernelspec": {
   "display_name": "Python 3.8.12 ('sclab')",
   "language": "python",
   "name": "python3"
  },
  "language_info": {
   "codemirror_mode": {
    "name": "ipython",
    "version": 3
   },
   "file_extension": ".py",
   "mimetype": "text/x-python",
   "name": "python",
   "nbconvert_exporter": "python",
   "pygments_lexer": "ipython3",
   "version": "3.8.12"
  },
  "orig_nbformat": 4
 },
 "nbformat": 4,
 "nbformat_minor": 2
}
